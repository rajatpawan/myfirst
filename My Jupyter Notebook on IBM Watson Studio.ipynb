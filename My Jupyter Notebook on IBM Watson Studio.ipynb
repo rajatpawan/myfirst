{
    "cells": [
        {
            "metadata": {
                "collapsed": true
            },
            "cell_type": "markdown",
            "source": "# My Jupyter Notebook on IBM Watson Studio"
        },
        {
            "metadata": {},
            "cell_type": "markdown",
            "source": "**Rajat Panwan**\n\nData Scientist"
        },
        {
            "metadata": {},
            "cell_type": "markdown",
            "source": "*I am interested in data science because it's the sexiest job of 21st century*"
        },
        {
            "metadata": {},
            "cell_type": "markdown",
            "source": "### I'm going to square a number written in front of 'x' and will give the output of the following cell."
        },
        {
            "metadata": {},
            "cell_type": "code",
            "source": "x = 4\ny = x**2\ny",
            "execution_count": 3,
            "outputs": [
                {
                    "output_type": "execute_result",
                    "execution_count": 3,
                    "data": {
                        "text/plain": "16"
                    },
                    "metadata": {}
                }
            ]
        },
        {
            "metadata": {},
            "cell_type": "markdown",
            "source": "### horizontal rule, bulleted list, numbered list, tables,Hyperlinks images, code/syntax highlighting, blocked quotes, strikethrough are follows:\n\n### 1.\nhorizontal rule \n***\n\n\n### 2.\n- bulleted list \n- bulleted list \n- bulleted list \n\n\n### 3.\n1. numbered list\n2. numbered list\n3. numbered list\n\n\n### 4.\n| Tables        |type           | \n| ------------- |:-------------:|\n| table 1       | sample 1      | \n| table 2       | sample 2      |\n\n\n### 5.\n[This is the Hyperlink for my LinkedIn](https://www.linkedin.com/in/rajat-panwan-1ab99b2a)\n\nor\n\n<https://www.google.co.in/>\n\n\n### 6.\nHere is image\n![alt text](data:image/png;base64,iVBORw0KGgoAAAANSUhEUgAAAOEAAADhCAMAAAAJbSJIAAAAY1BMVEUAAAD///+QkJBLS0vExMTs7Oze3t5XV1fh4eEXFxfY2Ni+vr76+vqpqalQUFB3d3fS0tIpKSmFhYXy8vKWlpZhYWFERERcXFw+Pj6enp4KCgoyMjK3t7evr684ODhra2sfHx/aSSiUAAAFJklEQVR4nO2b7ZqiMAyFYUCpooCgKOoo93+VK7hqmzZtZUZl9znvv6FJ6RkhST8IAgAAAAAAAAAAAAAAAAAAAAAAAAAAAAAAAAAAAAAAAAAAAAAAAAAAAAAA/glSMXUyry+GmYdhj0iX5Xam3Six+IslO769bYAi8lA4Dd0suo62HoZ3qnmzJzfa2OynB25828rml31MYUda+ysMc258jdXtswrDqvFXGDPDmwmr24cVhuH85KswZIYX2b18FDapm2M30Dr2sCTEzSPiRFb/uDYP72z32nkofC17Gm94y1cOA4CR87V003T5eNV4WJr4Pvc32n07zFb64DKXz0n30bDnmyt9tqgn3kmCUPQB1ZEtwrDRBxe7fH41H+4GK7yOw6lwoo1t79fzCBQ2XgqrDR1b6ez5VxUOf0rDyktheKRjK5wuPgpj4aafPZ0KD0szRXejZOIyS0msqZ13nPjMnmY++Fvy/vvWZdWSoT3vAcA/T71NZLbswkJwIJZ0DrNT25OEhJCItt86kqdQ+8xslGyjofMQWkCUrOWaWH6T9iMN6qSrORf85diYLziruaG+8yJ9mcIF6YrPc5LhkjUqRqiQVCu8wuJu0/KlyAgVVuSVttQq91fMsiw0WOHr3kNaU7PvoTTBoP9vicHvYU1CFt/PgUQ3LZaSdjqLi5goeeFeaPImyeBYCsD42WUqlvcwe4JE34aqbfYr5x3q19c09t0SQqX7W2JpGKZOi+nr8+H5GYWGXSWSDxdKfdanFmuPb8j4yRMCTb0QhSKlHl/KhZRUqG/I+E9sQ2lrLwaF01KRkFKDkmyS/qDyXshYf8OFJ7TauSlUjKaBkP8Uu0j9+1CpAxv8G25zFX7napV7cjb7b6iVcqFcnZTmTUB63ejRGYD/hVUWyVhqGmLJw2xd7zSrWc32cXnpyJXd0JqmrCYyFXsAhFryCHOoiVX/bmJfMF1WxWX2LNRL8dBYqqbZZ2bAFoyd0IxvuLmcHQOS8Qfnw5coDE2/okHhjPPPdYWD8+FrFFaJl0Ju7WYRfEThc3OLVvMnM4e+1mb2Cvt1G3Jt8FOarb9k1vzOVaJa2lnrtVGuWvT/ypPFuVQv5qhpAHgjv7wwmqvHjYWlpiGW3+TVP5ODywVpPyrt4u/ZUv2YtPgbzufq1eP782FMFGiRn/yzTPnwEk31wx7tteXzNQ1VmNORkoPqZoX6tuM8MCr8QE3jVEhWaxiF2p7obQSfV0jfM+0pjdWQQWqam8KAPKb3HeHfekrPsQqzyHIhJ5Zr7TckC1Jxq7Q3qvt9uepLuji9eN2up6p9o/YGABg/y9hN2m1TH44elmaO3UmFiG2WFsalGCR9qpFynoXP9xYjOF8qHqOR8pCkmz07NJozwoW3wsdyzUJKVuNXmHsrfBQD8gmVNykc/pRWK3+F93JI3rX6mcLjdO6kf6FPsdvQzHVmkQmuXf4yry6u14R8BqfgPAWzqA4AGBm5cSWWLNl2wfDwzDLwnce5yxPrr05EV91CsHpcs+Q81z4zRa8vu7qg7P7mxcCyvd+I91cPZ666Eakj5/v/9JfOQh6AXz4M+l2RVL3ypoz/tMJKfYa8FZ61gy6jVLioSlL3eysMtM+ZfqaQ215WNqu7Oya+W9uTeZE2+sbVlvUviOWSHqQSnGfl82UXf0RAPS0QtL7HE6JDa7oR709Lr1Y7Nc2RYZ8NAAAAAAAAAAAAAAAAAAAAAAAAAAAAAAAAAAAAAAAAAAAAAAAAAMAv8AceBoKxgnohRgAAAABJRU5ErkJggg==)\n\n\n### 7.\n```python\na = \"This is code/syntax highlighting\"\nprint a\n```\n\n### 8.\n> This is blocked quote\n\n\n### 9.\n<s>This is strike through text</s>\n\n\n\n"
        },
        {
            "metadata": {},
            "cell_type": "code",
            "source": "",
            "execution_count": null,
            "outputs": []
        },
        {
            "metadata": {},
            "cell_type": "code",
            "source": "",
            "execution_count": null,
            "outputs": []
        }
    ],
    "metadata": {
        "kernelspec": {
            "name": "python3",
            "display_name": "Python 3.6",
            "language": "python"
        },
        "language_info": {
            "name": "python",
            "version": "3.6.9",
            "mimetype": "text/x-python",
            "codemirror_mode": {
                "name": "ipython",
                "version": 3
            },
            "pygments_lexer": "ipython3",
            "nbconvert_exporter": "python",
            "file_extension": ".py"
        }
    },
    "nbformat": 4,
    "nbformat_minor": 1
}